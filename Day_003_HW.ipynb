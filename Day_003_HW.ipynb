{
 "cells": [
  {
   "cell_type": "markdown",
   "metadata": {},
   "source": [
    "## 請至以下機器學習巨頭的 blog 參觀，試著閱讀一篇文章並分析其 \n",
    "\n",
    "## Google AI Blog / Setting Fairness Goals with the TensorFlow Constrained Optimization Library\n",
    "\n",
    "#### 作業 1：目標\n",
    "1. classifier 分類問題\n",
    "2. Target: to decide whether a person should receive a loan or not\n",
    "3. Predictor:  Dataset of people who either are able to repay a loan or not\n",
    "\n",
    "\n",
    "#### 作業 2：方法\n",
    "Objective Function that rewards the model for granting loans to those people who will pay them back, and would also impose fairness constraints that prevent it from unfairly denyling loans to certain protected groups of people.  \n",
    "In TFCO, the objective to minimize, and the constraints to impose, are represented as algebraic expressions (using normal Python operators) of simple basic rates.\n",
    "#### 作業 3：資料來源 \n",
    "Hardt et al - Dataset of people who either are able to repay a loan or not"
   ]
  }
 ],
 "metadata": {
  "kernelspec": {
   "display_name": "Python 3",
   "language": "python",
   "name": "python3"
  },
  "language_info": {
   "codemirror_mode": {
    "name": "ipython",
    "version": 3
   },
   "file_extension": ".py",
   "mimetype": "text/x-python",
   "name": "python",
   "nbconvert_exporter": "python",
   "pygments_lexer": "ipython3",
   "version": "3.7.0"
  }
 },
 "nbformat": 4,
 "nbformat_minor": 2
}
